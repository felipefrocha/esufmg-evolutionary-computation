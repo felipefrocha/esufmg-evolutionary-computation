{
  "nbformat": 4,
  "nbformat_minor": 0,
  "metadata": {
    "colab": {
      "name": "RASTRIGIN_Felipe_Rocha_Matheus_Cascalho",
      "provenance": [],
      "collapsed_sections": [],
      "include_colab_link": true
    },
    "kernelspec": {
      "name": "python3",
      "display_name": "Python 3"
    }
  },
  "cells": [
    {
      "cell_type": "markdown",
      "metadata": {
        "id": "view-in-github",
        "colab_type": "text"
      },
      "source": [
        "<a href=\"https://colab.research.google.com/github/felipefrocha/esufmg-evolutionary-computation/blob/master/RASTRIGIN_Felipe_Rocha_Matheus_Cascalho.ipynb\" target=\"_parent\"><img src=\"https://colab.research.google.com/assets/colab-badge.svg\" alt=\"Open In Colab\"/></a>"
      ]
    },
    {
      "cell_type": "markdown",
      "metadata": {
        "id": "cweBK9Lgouy8"
      },
      "source": [
        "\n",
        "# Lab3 - Computação Evolucionária\n",
        "## Alunos:\n",
        "- Felipe Fonseca Rocha\n",
        "- Matheus Cascalho\n",
        "\n",
        "### Descrição do problema:\n",
        "Considere a notacão a seguir:\n",
        "\n",
        "Problema de Otimizacão não linear irrestrito de variaveis continuas:\n",
        "\n",
        "$$ \\bar{x} = arg\\  \\min\\limits_{x} f(x) $$\n",
        "\n",
        "$ \\mu_{[a,b]} = $ probabilidade de recombinação. Sugestão: $ C \\in [0.6,0.9] $\n",
        "\n",
        "$F = $ fator de escala. Sugestão $ F \\in [0.7,0.9] $\n",
        "\n",
        "Seja uma população de N solucoes candidatas na t­esima iteracao:\n",
        "$$ X_t = \\left\\{  x_{t,i} , i = 1, ... , N \\right\\}$$\n",
        "Cada individuo é representado por um vetor coluna:\n",
        "$$ x_{t,i} = \\left[ x_{t,i,1},x_{t,i,2},..., x_{t,i,n}  \\right] ^T $$\n",
        "em que o terceito indice indica uma entre as n variaveis de decisão do problema.\n",
        "\n",
        "### Tarefa\n",
        "\n",
        "```\n",
        "    WHILE critério para DO\n",
        "        FOR i = 1 TO n DO\n",
        "            select_random(r1,r2,r3)\n",
        "            slect_random(fi_i)\n",
        "            FOR j = 1 TO n DO\n",
        "                IF mi[0,1] < C && j == fi_i THEN\n",
        "                    mi[t,i,j] = x[i,r1,j] + function_F(x[t,r2,j] - x[t,r3,j])\n",
        "                ELSE\n",
        "                    mi[t,i,j] = x[t,i,j]\n",
        "                END IF\n",
        "\n",
        "            END FOR\n",
        "            IF function(mi[i,j]) <= function(x[t,i]) THEN\n",
        "                x[t+1,i] = mi[ti]\n",
        "            ELSE\n",
        "                x[t+1,i] = x[t,i]\n",
        "            END IF \n",
        "        END FOR\n",
        "        t = t + 1\n",
        "    END WHILE\n",
        "```\n",
        "\n",
        "\n",
        "Testar o codigo de algoritimo de evolução diferencial para o seguinte problema multimodal de otimização contínua:\n",
        "\n"
      ]
    },
    {
      "cell_type": "markdown",
      "metadata": {
        "id": "GyAq6jMXzbkJ"
      },
      "source": [
        "### **rastrigin** para:  \n",
        "$$ \\left \\lbrace \n",
        " \\begin{array}{c}\n",
        " -2 \\leq x_1 \\leq 2 \\\\\n",
        " -2 \\leq x_2 \\leq 3 \\\\\n",
        " N = 100 \\\\\n",
        " \\bar{x} = [0,0] \\\\\n",
        " \\min\\limits_{x} f(x_1,x_2) = -20\n",
        " \\end{array}\n",
        "\\right\\}\n",
        "$$\n",
        "\n"
      ]
    },
    {
      "cell_type": "code",
      "metadata": {
        "id": "pcYfv1If4g-L"
      },
      "source": [
        "from matplotlib import cm\n",
        "from mpl_toolkits.mplot3d import Axes3D\n",
        "import math\n",
        "import matplotlib.pyplot as plt\n",
        "import numpy as np\n",
        "from typing import List\n",
        "\n",
        "\n",
        "import random"
      ],
      "execution_count": 2,
      "outputs": []
    },
    {
      "cell_type": "code",
      "metadata": {
        "id": "7AAhz8CAWyrv"
      },
      "source": [
        "def rastrigin(x1, **kwargs):\n",
        "    A = kwargs.get('A', 10)\n",
        "    return A * len(x1) + sum([(x ** 2 - A * np.cos(2 * math.pi * x)) for x in x1])\n"
      ],
      "execution_count": 3,
      "outputs": []
    },
    {
      "cell_type": "code",
      "metadata": {
        "id": "QrIKggtm4pV2"
      },
      "source": [
        "def get_pair(upper_limit, bottom_limit):\n",
        "    return [ random.randint(bottom_limit, upper_limit) * random.random(), random.randint(bottom_limit,upper_limit) * random.random() ]"
      ],
      "execution_count": 4,
      "outputs": []
    },
    {
      "cell_type": "code",
      "metadata": {
        "id": "FmFT8G8xFANp"
      },
      "source": [
        "\n",
        "def generate_initial_solution(upper_limit:int = 2, bottom_limit:int=-2, n:int = 100, ):\n",
        "    return np.array([ get_pair( upper_limit, bottom_limit) for _ in range(n)])"
      ],
      "execution_count": 5,
      "outputs": []
    },
    {
      "cell_type": "code",
      "metadata": {
        "id": "lzBO7MNEFIrj"
      },
      "source": [
        "\n",
        "\n",
        "\n",
        "def test_recombination(param, recombination:List):\n",
        "    return recombination[0] <= param <= recombination[1]"
      ],
      "execution_count": 6,
      "outputs": []
    },
    {
      "cell_type": "code",
      "metadata": {
        "id": "R1NdS9hCFPIs"
      },
      "source": [
        "\n",
        "function_objetivo = rastrigin"
      ],
      "execution_count": 7,
      "outputs": []
    },
    {
      "cell_type": "code",
      "metadata": {
        "id": "0Njk7RBrHLTg",
        "outputId": "44dc0d9c-d1ad-4cff-8f5d-1d39f2b1371c",
        "colab": {
          "base_uri": "https://localhost:8080/",
          "height": 594
        }
      },
      "source": [
        "data = []\n",
        "population_size = 100\n",
        "recombination = [0.6, 0.9]\n",
        "factor_interval = [0.7, 0.9]\n",
        "factor = random.randint(700, 900) / 1000\n",
        "mu = np.array([0.0, 0.0])\n",
        "pop_initial = generate_initial_solution(2, -2, population_size)\n",
        "new_generation = []\n",
        "flag = 0\n",
        "better = 50.0\n",
        "for g in range(1000):\n",
        "    for i in range(population_size):\n",
        "        fitness = [function_objetivo(individual) for individual in pop_initial]\n",
        "        # select target vector\n",
        "        target = pop_initial[i]\n",
        "        # list indexes but target\n",
        "        indexes = [idx for idx in range(population_size) if idx != i]  # (j = 0)\n",
        "        # select r1, r2, r3\n",
        "        selected = np.random.choice(indexes, 3, replace=False)\n",
        "        r1, r2, r3 = pop_initial[selected]\n",
        "\n",
        "        for j in range(len(r1)):\n",
        "            # get recombination parts\n",
        "            p = random.random()\n",
        "            if test_recombination(p, recombination):\n",
        "                mu[j] = r1[j] + factor * (r2[j] - r3[j])\n",
        "            else:\n",
        "                mu[j] = target[j]\n",
        "\n",
        "        if function_objetivo(mu) <= function_objetivo(target):\n",
        "            new_generation.append(mu)\n",
        "        else:\n",
        "            new_generation.append(target)\n",
        "\n",
        "    pop_initial = np.array(new_generation)\n",
        "    new_generation = []\n",
        "    data.append((max(fitness), min(fitness), sum(fitness) / len(fitness), np.std(fitness)))\n",
        "\n",
        "    if min(fitness) < better:\n",
        "        flag = 0\n",
        "        better = min(fitness)\n",
        "        print(f'Find a better sollution: {data[g]}')\n",
        "    else:\n",
        "        flag += 1\n",
        "        if flag >= 50:\n",
        "            break\n",
        "\n",
        "\n",
        "maximum_value = [element[0] for element in data]\n",
        "min_value = [element[1] for element in data]\n",
        "mean_value = [element[2] for element in data]\n",
        "deviation_value = [element[3] for element in data]\n",
        "plt.style.use('fivethirtyeight')\n",
        "plt.figure(figsize=(15, 5))\n",
        "plt.figure(figsize=(12, 8))\n",
        "plt.plot(np.arange(len(mean_value)), mean_value , label='Qualidade média da população')\n",
        "plt.plot(np.arange(len(min_value)), min_value, label='Melhor solução')\n",
        "plt.xlabel('Iterações')\n",
        "plt.ylabel('Qualidade')\n",
        "plt.title('Qualidade por iteração')\n",
        "plt.legend();\n",
        "exit(0)\n"
      ],
      "execution_count": 8,
      "outputs": [
        {
          "output_type": "stream",
          "text": [
            "Find a better sollution: (36.16050547421283, 0.0, 16.714385621637536, 9.752060286461814)\n"
          ],
          "name": "stdout"
        },
        {
          "output_type": "display_data",
          "data": {
            "text/plain": [
              "<Figure size 1080x360 with 0 Axes>"
            ]
          },
          "metadata": {
            "tags": []
          }
        },
        {
          "output_type": "display_data",
          "data": {
            "image/png": "[encoded data removed]",
            "text/plain": [
              "<Figure size 864x576 with 1 Axes>"
            ]
          },
          "metadata": {
            "tags": []
          }
        }
      ]
    }
  ]
}